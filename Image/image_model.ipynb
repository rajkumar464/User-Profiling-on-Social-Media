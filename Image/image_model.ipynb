{
  "nbformat": 4,
  "nbformat_minor": 0,
  "metadata": {
    "colab": {
      "name": "image_model.ipynb",
      "provenance": [],
      "collapsed_sections": []
    },
    "kernelspec": {
      "name": "python3",
      "display_name": "Python 3"
    },
    "language_info": {
      "name": "python"
    },
    "accelerator": "GPU"
  },
  "cells": [
    {
      "cell_type": "markdown",
      "source": [
        "## Importing packages and libraries"
      ],
      "metadata": {
        "id": "dyok-_l6cl4l"
      }
    },
    {
      "cell_type": "code",
      "source": [
        "from tensorflow import keras\n",
        "from keras.datasets import mnist\n",
        "from keras.models import Sequential,Model\n",
        "from keras.layers import Dense,Conv2D,Dropout,MaxPooling2D,Flatten, BatchNormalization, Activation\n",
        "from keras.utils import np_utils\n",
        "from tensorflow.keras.optimizers import Adam,SGD\n",
        "from tensorflow.keras.applications.vgg16 import VGG16\n",
        "from sklearn.model_selection import train_test_split,KFold\n",
        "import numpy as np\n",
        "from keras.preprocessing.image import load_img, img_to_array, smart_resize, array_to_img\n",
        "import matplotlib.pyplot as plt\n",
        "import glob\n",
        "import pandas as pd\n",
        "import os"
      ],
      "metadata": {
        "id": "pVb0IKQOGHRM"
      },
      "execution_count": null,
      "outputs": []
    },
    {
      "cell_type": "markdown",
      "source": [
        "## Reading the data"
      ],
      "metadata": {
        "id": "37G7OEnMczyz"
      }
    },
    {
      "cell_type": "code",
      "source": [
        "df = pd.read_csv('/content/drive/MyDrive/tcss555/training/profile/profile.csv', header=0, usecols=['userid','gender'] )"
      ],
      "metadata": {
        "id": "xCzQVks1HHw9"
      },
      "execution_count": null,
      "outputs": []
    },
    {
      "cell_type": "code",
      "source": [
        "os.chdir('/content/drive/MyDrive/tcss555/training/image/')"
      ],
      "metadata": {
        "id": "SPPOtFO6F7lq"
      },
      "execution_count": null,
      "outputs": []
    },
    {
      "cell_type": "code",
      "source": [
        "filelist = (os.listdir('/content/drive/MyDrive/tcss555/training/image/'))"
      ],
      "metadata": {
        "id": "o1N8F9IYP86i"
      },
      "execution_count": null,
      "outputs": []
    },
    {
      "cell_type": "code",
      "source": [
        "x = []\n",
        "y = []\n",
        "for file in filelist:\n",
        "    if file[:-4] in df.values:\n",
        "      img = load_img(file)\n",
        "      img_array = img_to_array(img)\n",
        "      img_array = smart_resize(img_array,(100,100))\n",
        "      index = df[df['userid']== file[:-4]].index.values[0]\n",
        "      y.append(df.values[index][1])\n",
        "      img_array = img_array.reshape(100*100*3)\n",
        "      x.append(img_array)\n",
        "      img.close()"
      ],
      "metadata": {
        "id": "fCeald97Hy6m"
      },
      "execution_count": null,
      "outputs": []
    },
    {
      "cell_type": "code",
      "source": [
        "x = np.array(x)\n",
        "y= np.array(y)\n",
        "print(x.shape)\n",
        "print(y.shape)"
      ],
      "metadata": {
        "colab": {
          "base_uri": "https://localhost:8080/"
        },
        "id": "CCeQOPbDQ0cs",
        "outputId": "6584d68f-a982-4ce4-822e-d57bb6b77b0c"
      },
      "execution_count": null,
      "outputs": [
        {
          "output_type": "stream",
          "name": "stdout",
          "text": [
            "(1, 30000)\n",
            "(1,)\n"
          ]
        }
      ]
    },
    {
      "cell_type": "code",
      "source": [
        "#save the features and labels as numpy arrays for future use\n",
        "np.save('features.npy',x)\n",
        "np.save('label.npy', y)"
      ],
      "metadata": {
        "id": "ZyZgip3GA601"
      },
      "execution_count": null,
      "outputs": []
    },
    {
      "cell_type": "code",
      "source": [
        "features = np.load('features.npy')\n",
        "label = np.load('label.npy')"
      ],
      "metadata": {
        "id": "6cQsvG0tBJji"
      },
      "execution_count": null,
      "outputs": []
    },
    {
      "cell_type": "markdown",
      "source": [
        "## Splitting the dataset"
      ],
      "metadata": {
        "id": "JZ0ctnXKc_Fp"
      }
    },
    {
      "cell_type": "code",
      "source": [
        "x_train, x_test, y_train, y_test = train_test_split(features ,label, test_size=0.33,random_state=42)"
      ],
      "metadata": {
        "id": "C0chT54jJB4D"
      },
      "execution_count": null,
      "outputs": []
    },
    {
      "cell_type": "markdown",
      "source": [
        "## Normalization"
      ],
      "metadata": {
        "id": "hazYlusCdCSE"
      }
    },
    {
      "cell_type": "code",
      "source": [
        "x_train = x_train/255.0\n",
        "x_test = x_test/255.0"
      ],
      "metadata": {
        "id": "Z6KLTW52GgcX"
      },
      "execution_count": null,
      "outputs": []
    },
    {
      "cell_type": "code",
      "source": [
        "y_train = np_utils.to_categorical(y_train)\n",
        "y_test = np_utils.to_categorical(y_test)\n",
        "num_classes = y_test.shape[1]"
      ],
      "metadata": {
        "id": "pIIZqHeyJEJ2"
      },
      "execution_count": null,
      "outputs": []
    },
    {
      "cell_type": "markdown",
      "source": [
        "## Model definition"
      ],
      "metadata": {
        "id": "yxTOuMIpdL2Z"
      }
    },
    {
      "cell_type": "code",
      "source": [
        "# adding our sequential layers to the pre-trained VGG16 Functional Model object\n",
        "def create_model():\n",
        "  vgg = VGG16(input_shape = [100,100,3], weights = 'imagenet', include_top = False)\n",
        "  x = Flatten(input_shape=(100,100,3))(vgg.output)\n",
        "  x = Dense(256, activation='relu')(x)\n",
        "  x = Dropout(0.5)(x)\n",
        "  x = Dense(2, activation='sigmoid')(x)\n",
        "  for layer in vgg.layers:\n",
        "    layer.trainable = False\n",
        "  model = Model(inputs = vgg.input, outputs = x)\n",
        "\t# compile model\n",
        "  model.compile(loss='binary_crossentropy',\n",
        "              optimizer=SGD(lr=1e-4, momentum=0.9),\n",
        "              metrics=['accuracy'])\n",
        "  return model"
      ],
      "metadata": {
        "id": "vC0T0zL0YP3m"
      },
      "execution_count": null,
      "outputs": []
    },
    {
      "cell_type": "markdown",
      "source": [
        "## Training "
      ],
      "metadata": {
        "id": "knMZRd2hdduM"
      }
    },
    {
      "cell_type": "code",
      "source": [
        "model = create_model()\n",
        "history = model.fit(x_train,y_train, validation_data=(x_test,y_test),epochs=50, batch_size=16)\n",
        "scores = model.evaluate(x_test, y_test, verbose = 0)\n",
        "print('Baseline Error: %.2f%%' % (100-scores[1]*100))"
      ],
      "metadata": {
        "id": "AgePvJ0bYlZQ"
      },
      "execution_count": null,
      "outputs": []
    },
    {
      "cell_type": "markdown",
      "source": [
        "## Plotting the accuracy and loss curves of the training and test sets"
      ],
      "metadata": {
        "id": "YGsn7QStdhSR"
      }
    },
    {
      "cell_type": "code",
      "source": [
        "plt.plot(history.history['accuracy'])\n",
        "plt.plot(history.history['val_accuracy'])\n",
        "plt.title('model accuracy')\n",
        "plt.ylabel('accuracy')\n",
        "plt.xlabel('epoch')\n",
        "plt.legend(['train', 'test'], loc='upper left')\n",
        "plt.show()"
      ],
      "metadata": {
        "colab": {
          "base_uri": "https://localhost:8080/",
          "height": 295
        },
        "id": "uuMeWBicTEDe",
        "outputId": "76c1ad75-b374-445c-947d-925afa903f41"
      },
      "execution_count": null,
      "outputs": [
        {
          "output_type": "display_data",
          "data": {
            "image/png": "[encoded data removed]",
            "text/plain": [
              "<Figure size 432x288 with 1 Axes>"
            ]
          },
          "metadata": {
            "needs_background": "light"
          }
        }
      ]
    },
    {
      "cell_type": "code",
      "source": [
        "plt.plot(history.history['loss'])\n",
        "plt.plot(history.history['val_loss'])\n",
        "plt.title('model loss')\n",
        "plt.ylabel('loss')\n",
        "plt.xlabel('epoch')\n",
        "plt.legend(['train', 'test'], loc='upper left')\n",
        "plt.show()"
      ],
      "metadata": {
        "colab": {
          "base_uri": "https://localhost:8080/",
          "height": 295
        },
        "id": "MyHf0IGhTH05",
        "outputId": "84b804a7-0dbe-448b-f271-703d3bb35978"
      },
      "execution_count": null,
      "outputs": [
        {
          "output_type": "display_data",
          "data": {
            "image/png": "[encoded data removed]",
            "text/plain": [
              "<Figure size 432x288 with 1 Axes>"
            ]
          },
          "metadata": {
            "needs_background": "light"
          }
        }
      ]
    },
    {
      "cell_type": "markdown",
      "source": [
        "## Saving the model"
      ],
      "metadata": {
        "id": "hyjHSbz7dngA"
      }
    },
    {
      "cell_type": "code",
      "source": [
        "#change to any directory of your preference\n",
        "os.chdir('/content/drive/MyDrive/tcss555/')"
      ],
      "metadata": {
        "id": "KjZrOv_qHU4j"
      },
      "execution_count": null,
      "outputs": []
    },
    {
      "cell_type": "code",
      "source": [
        "import pickle\n",
        "pickle.dump(loaded_model, open('image_model1.sav','wb'))"
      ],
      "metadata": {
        "colab": {
          "base_uri": "https://localhost:8080/"
        },
        "id": "_NjPZa6VHY4T",
        "outputId": "bb6a322e-a051-4705-9e6e-60c4bf748f7d"
      },
      "execution_count": null,
      "outputs": [
        {
          "output_type": "stream",
          "name": "stdout",
          "text": [
            "INFO:tensorflow:Assets written to: ram://45065031-4039-4cfa-85f9-336b6004e0aa/assets\n"
          ]
        }
      ]
    },
    {
      "cell_type": "markdown",
      "source": [
        "## Loading the model and running a prediction"
      ],
      "metadata": {
        "id": "BHKE0Ny8du8f"
      }
    },
    {
      "cell_type": "code",
      "source": [
        "loaded_model = pickle.load(open('image_model1.sav', 'rb'))"
      ],
      "metadata": {
        "id": "QHO37R8WgbQM"
      },
      "execution_count": null,
      "outputs": []
    },
    {
      "cell_type": "code",
      "source": [
        "loaded_model.fit(x_test, y_test)"
      ],
      "metadata": {
        "colab": {
          "base_uri": "https://localhost:8080/"
        },
        "id": "GzyeRBXoHeEV",
        "outputId": "378c0a7c-b61e-49d3-ebe0-3c65075a1674"
      },
      "execution_count": null,
      "outputs": [
        {
          "output_type": "stream",
          "name": "stdout",
          "text": [
            "75/75 [==============================] - 17s 90ms/step - loss: 0.4939 - accuracy: 0.7524\n"
          ]
        },
        {
          "output_type": "execute_result",
          "data": {
            "text/plain": [
              "<keras.callbacks.History at 0x7f5290451290>"
            ]
          },
          "metadata": {},
          "execution_count": 11
        }
      ]
    },
    {
      "cell_type": "code",
      "source": [
        "pred = loaded_model.predict(x_test)"
      ],
      "metadata": {
        "id": "iRzJGDSCTimu"
      },
      "execution_count": null,
      "outputs": []
    },
    {
      "cell_type": "code",
      "source": [
        "classes_x=np.argmax(pred,axis=1)\n",
        "classes_x = classes_x.astype('float32')"
      ],
      "metadata": {
        "id": "RcEjF64mYhxe"
      },
      "execution_count": null,
      "outputs": []
    },
    {
      "cell_type": "code",
      "source": [
        "test_labels = np.argmax(y_test, axis=1)\n",
        "test_labels = test_labels.astype('float32')"
      ],
      "metadata": {
        "id": "V0-89eWpmztC"
      },
      "execution_count": null,
      "outputs": []
    },
    {
      "cell_type": "code",
      "source": [
        "from sklearn.metrics import accuracy_score\n",
        "accuracy_score(test_labels,classes_x)"
      ],
      "metadata": {
        "colab": {
          "base_uri": "https://localhost:8080/"
        },
        "id": "Mf2AG4QgkzxZ",
        "outputId": "4541fd3b-e6fb-4e56-acf9-15dbc2210390"
      },
      "execution_count": null,
      "outputs": [
        {
          "output_type": "execute_result",
          "data": {
            "text/plain": [
              "0.7725677830940989"
            ]
          },
          "metadata": {},
          "execution_count": 28
        }
      ]
    }
  ]
}